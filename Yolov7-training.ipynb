{
 "cells": [
  {
   "cell_type": "markdown",
   "metadata": {
    "id": "mPzHIRqpxx5X"
   },
   "source": [
    "**import google colab and mount your directory**\n",
    "- Once you run the below cell, it will redirect you to the google drive login\n",
    "- authenticate and give permission of your g-drive"
   ]
  },
  {
   "cell_type": "code",
   "execution_count": null,
   "metadata": {
    "colab": {
     "base_uri": "https://localhost:8080/"
    },
    "executionInfo": {
     "elapsed": 34073,
     "status": "ok",
     "timestamp": 1669001410764,
     "user": {
      "displayName": "Md Abuzar",
      "userId": "08570529373495584163"
     },
     "user_tz": -330
    },
    "id": "KoNyAL-2JfwL",
    "outputId": "3a77e5a9-eb24-48dc-bb1b-5ac2c6f7a0e3"
   },
   "outputs": [],
   "source": [
    "from google.colab import drive\n",
    "drive.mount('/content/gdrive')"
   ]
  },
  {
   "cell_type": "code",
   "execution_count": null,
   "metadata": {
    "colab": {
     "base_uri": "https://localhost:8080/"
    },
    "executionInfo": {
     "elapsed": 20,
     "status": "ok",
     "timestamp": 1669001410767,
     "user": {
      "displayName": "Md Abuzar",
      "userId": "08570529373495584163"
     },
     "user_tz": -330
    },
    "id": "U8_P0dbTJxGz",
    "outputId": "6092b1de-fe59-4e1b-d83b-28c1368bd04e",
    "scrolled": true
   },
   "outputs": [],
   "source": [
    "%cd /content/gdrive/MyDrive"
   ]
  },
  {
   "cell_type": "markdown",
   "metadata": {
    "id": "Ty91bCDzzAHr"
   },
   "source": [
    "**change the directory to: george_classifier**"
   ]
  },
  {
   "cell_type": "code",
   "execution_count": null,
   "metadata": {
    "colab": {
     "base_uri": "https://localhost:8080/"
    },
    "executionInfo": {
     "elapsed": 13,
     "status": "ok",
     "timestamp": 1669001410768,
     "user": {
      "displayName": "Md Abuzar",
      "userId": "08570529373495584163"
     },
     "user_tz": -330
    },
    "id": "YJbloKeYLIkp",
    "outputId": "4ab49e30-861a-4622-ca07-7daef1e6e435"
   },
   "outputs": [],
   "source": [
    "%cd /content/gdrive/MyDrive/george_classifier/"
   ]
  },
  {
   "cell_type": "markdown",
   "metadata": {
    "id": "xdJxBwtDzW2Z"
   },
   "source": [
    "**clone the official Yolov7 repo in the project directory itself**"
   ]
  },
  {
   "cell_type": "code",
   "execution_count": null,
   "metadata": {
    "colab": {
     "base_uri": "https://localhost:8080/"
    },
    "executionInfo": {
     "elapsed": 6996,
     "status": "ok",
     "timestamp": 1668977599716,
     "user": {
      "displayName": "Md Abuzar",
      "userId": "08570529373495584163"
     },
     "user_tz": -330
    },
    "id": "6AqVVhTgzny8",
    "outputId": "385a39b2-862d-4a9b-a071-4c1973ac8ca9"
   },
   "outputs": [],
   "source": [
    "!git clone https://github.com/WongKinYiu/yolov7"
   ]
  },
  {
   "cell_type": "markdown",
   "metadata": {
    "id": "JnatgmEy0Y2u"
   },
   "source": [
    "**change the configuration file of YOLOV7 for our custom dataset**\n",
    "- copy the yolov7/data/coco.yaml file and paste it with name custom_data.yaml\n",
    "- change the content of the file according to our use-case\n",
    "- copy the yolov7/cfg/training/yolov7.yaml and paste it with name yolov7-custom.yaml\n",
    "- change the content of it according to our use-case."
   ]
  },
  {
   "cell_type": "code",
   "execution_count": null,
   "metadata": {
    "executionInfo": {
     "elapsed": 1131,
     "status": "ok",
     "timestamp": 1668977755030,
     "user": {
      "displayName": "Md Abuzar",
      "userId": "08570529373495584163"
     },
     "user_tz": -330
    },
    "id": "qaB9iygv0vDv"
   },
   "outputs": [],
   "source": [
    "!bash custom_config.sh"
   ]
  },
  {
   "cell_type": "markdown",
   "metadata": {
    "id": "THjzp7N42CLp"
   },
   "source": [
    "**copy annotated data to the yolov7 directory**\n",
    "- run below bash script\n",
    "- verify whether datasets are copied at the location: yolov7/data"
   ]
  },
  {
   "cell_type": "code",
   "execution_count": null,
   "metadata": {
    "executionInfo": {
     "elapsed": 19113,
     "status": "ok",
     "timestamp": 1668978157218,
     "user": {
      "displayName": "Md Abuzar",
      "userId": "08570529373495584163"
     },
     "user_tz": -330
    },
    "id": "aIq0aG3z2R74"
   },
   "outputs": [],
   "source": [
    "!bash copy_annotated_data_to_yolov7.sh"
   ]
  },
  {
   "cell_type": "code",
   "execution_count": null,
   "metadata": {
    "id": "7PvI9Ben2RhG"
   },
   "outputs": [],
   "source": []
  },
  {
   "cell_type": "code",
   "execution_count": null,
   "metadata": {
    "colab": {
     "base_uri": "https://localhost:8080/"
    },
    "executionInfo": {
     "elapsed": 825,
     "status": "ok",
     "timestamp": 1669001846133,
     "user": {
      "displayName": "Md Abuzar",
      "userId": "08570529373495584163"
     },
     "user_tz": -330
    },
    "id": "73Rj47zzLho5",
    "outputId": "843fe653-2ed6-43dd-9a97-21aa700b49ff"
   },
   "outputs": [],
   "source": [
    "%cd yolov7"
   ]
  },
  {
   "cell_type": "markdown",
   "metadata": {
    "id": "KkhGos1W2xXn"
   },
   "source": [
    "**Download the weight file for yolov7**\n",
    "- you will find pre-trained weight at official repo\n",
    "[YOLOv7 weights](https://github.com/WongKinYiu/yolov7/releases/download/v0.1/yolov7.pt)\n",
    "\n",
    "- you can see 6 pre-trained weight are there in the repo, but as we have configured yolov7 in earlier step, we will download yolov7 weight only.\n"
   ]
  },
  {
   "cell_type": "code",
   "execution_count": null,
   "metadata": {
    "colab": {
     "base_uri": "https://localhost:8080/"
    },
    "executionInfo": {
     "elapsed": 2539,
     "status": "ok",
     "timestamp": 1668978493294,
     "user": {
      "displayName": "Md Abuzar",
      "userId": "08570529373495584163"
     },
     "user_tz": -330
    },
    "id": "37wlQuVXLwgp",
    "outputId": "b6ebb618-5a0c-4493-df6c-1794af803ff2"
   },
   "outputs": [],
   "source": [
    "!wget https://github.com/WongKinYiu/yolov7/releases/download/v0.1/yolov7.pt"
   ]
  },
  {
   "cell_type": "markdown",
   "metadata": {
    "id": "Ggjk-G0D4xLI"
   },
   "source": [
    "**Below cell will launch training on our dataset**\n",
    "\n",
    "- while training on the data if CUDA-Runtime-Error comes, Try to decrease batch-size (like 8,16,32,64).\n",
    "- you can see improvements in mean average precision as the epoch continues.\n"
   ]
  },
  {
   "cell_type": "code",
   "execution_count": null,
   "metadata": {
    "colab": {
     "base_uri": "https://localhost:8080/"
    },
    "executionInfo": {
     "elapsed": 4145729,
     "status": "ok",
     "timestamp": 1668983061424,
     "user": {
      "displayName": "Md Abuzar",
      "userId": "08570529373495584163"
     },
     "user_tz": -330
    },
    "id": "o1OQFDnOMJgq",
    "outputId": "b24c2c32-72da-41bc-9b90-d99081e49d48"
   },
   "outputs": [],
   "source": [
    "!python train.py --device 0 --batch-size 16 --epochs 80 --img 640 640 --data data/custom_data.yaml --hyp data/hyp.scratch.custom.yaml --cfg cfg/training/yolov7-custom.yaml --weights yolov7.pt --name yolov7-custom"
   ]
  },
  {
   "cell_type": "code",
   "execution_count": null,
   "metadata": {
    "id": "AkGIfk3Q-ZLK"
   },
   "outputs": [],
   "source": []
  },
  {
   "cell_type": "code",
   "execution_count": null,
   "metadata": {
    "id": "wEDRFDOH-Yu-"
   },
   "outputs": [],
   "source": []
  },
  {
   "cell_type": "markdown",
   "metadata": {
    "id": "O5UTcnrxPVpG"
   },
   "source": [
    "**Now classify the images present in test/ folder**"
   ]
  },
  {
   "cell_type": "code",
   "execution_count": null,
   "metadata": {
    "executionInfo": {
     "elapsed": 4,
     "status": "ok",
     "timestamp": 1669005572205,
     "user": {
      "displayName": "Md Abuzar",
      "userId": "08570529373495584163"
     },
     "user_tz": -330
    },
    "id": "rbNqEfUrO0hC"
   },
   "outputs": [],
   "source": [
    "## !python detect.py --weights runs/train/yolov7-custom2/weights/best.pt --conf 0.5 --img-size 640 --source ../test --no-trace"
   ]
  },
  {
   "cell_type": "code",
   "execution_count": null,
   "metadata": {
    "colab": {
     "base_uri": "https://localhost:8080/"
    },
    "executionInfo": {
     "elapsed": 22625,
     "status": "ok",
     "timestamp": 1669005525489,
     "user": {
      "displayName": "Md Abuzar",
      "userId": "08570529373495584163"
     },
     "user_tz": -330
    },
    "id": "bfAr2nq0av01",
    "outputId": "759f4433-6c09-4c49-aa8e-88d0315e275b"
   },
   "outputs": [],
   "source": [
    "!bash ../classifier.sh"
   ]
  }
 ],
 "metadata": {
  "accelerator": "GPU",
  "colab": {
   "provenance": []
  },
  "gpuClass": "standard",
  "kernelspec": {
   "display_name": "Python 3 (ipykernel)",
   "language": "python",
   "name": "python3"
  },
  "language_info": {
   "codemirror_mode": {
    "name": "ipython",
    "version": 3
   },
   "file_extension": ".py",
   "mimetype": "text/x-python",
   "name": "python",
   "nbconvert_exporter": "python",
   "pygments_lexer": "ipython3",
   "version": "3.8.10"
  }
 },
 "nbformat": 4,
 "nbformat_minor": 1
}
