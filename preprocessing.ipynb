{
 "cells": [
  {
   "cell_type": "markdown",
   "id": "349fdbfb",
   "metadata": {},
   "source": [
    "## Perform below steps manually before getting started."
   ]
  },
  {
   "cell_type": "code",
   "execution_count": null,
   "id": "db1b3c17",
   "metadata": {},
   "outputs": [],
   "source": [
    "##1. Create a folder for doing this Assignment. I have created folder name- 'Assignment'.\n",
    "##2. Download the zip folder shared on g-drive (george_test_task.zip).\n",
    "##3. unzip the folder. yo will find 2 folder- 'george' and 'no_george'.\n",
    "##4. Our task is to classify the image which contains st.george. so, no_george folder is not of any use.\n",
    "##5. go through the dataset and cleaan it manually. delete the images which don't have st.george in it \n",
    "##   and image which are not clearly visible."
   ]
  },
  {
   "cell_type": "markdown",
   "id": "0981c55f",
   "metadata": {},
   "source": [
    "## Divide the dataset in 3 part- train, test, validation"
   ]
  },
  {
   "cell_type": "code",
   "execution_count": null,
   "id": "34c30831",
   "metadata": {},
   "outputs": [],
   "source": [
    "##6. Assuming most of the garbage are cleaned from george folder. If not 100%, most of them will be eliminated in \n",
    "##   Annotation step.\n",
    "\n",
    "##7. I will be dividing the dataset in the ratio (train:val:test) into (80:15:5)\n",
    "##8. After dividing the dataset , Copy the images into 'images' folder of train and val. \n",
    "##   Also create 'labels' folder in train and val for annotation.  \n",
    "##   There is no need to annotate test folder, only copy the images in the folder."
   ]
  },
  {
   "cell_type": "code",
   "execution_count": null,
   "id": "8006f911",
   "metadata": {},
   "outputs": [],
   "source": [
    "## if numpy is not installed, run this cell\n",
    "!pip install numpy"
   ]
  },
  {
   "cell_type": "code",
   "execution_count": null,
   "id": "9e885dce",
   "metadata": {},
   "outputs": [],
   "source": [
    "import os\n",
    "import shutil\n",
    "import random\n",
    "import math\n",
    "import numpy as np"
   ]
  },
  {
   "cell_type": "code",
   "execution_count": null,
   "id": "97d7e674",
   "metadata": {},
   "outputs": [],
   "source": [
    "# # Creating Train / Val / Test folders (One time use)\n",
    "\n",
    "def divide_copy_dataset(root_dir,src):\n",
    "    train_images = os.path.join(root_dir ,'train' , 'images')\n",
    "    train_labels = os.path.join(root_dir ,'train' ,'labels')\n",
    "    val_images = os.path.join(root_dir ,'val','images')\n",
    "    val_labels = os.path.join(root_dir ,'val','labels')\n",
    "    test = os.path.join(root_dir , 'test')\n",
    "\n",
    "    val_ratio = 0.15\n",
    "    test_ratio = 0.05\n",
    "\n",
    "    if not os.path.exists(train_images):\n",
    "        os.makedirs(train_images)\n",
    "    if not os.path.exists(train_labels):\n",
    "        os.makedirs(train_labels)\n",
    "\n",
    "    if not os.path.exists(val_images):\n",
    "        os.makedirs(val_images)\n",
    "    if not os.path.exists(val_labels):\n",
    "        os.makedirs(val_labels)\n",
    "\n",
    "    if not os.path.exists(test):\n",
    "        os.makedirs(test)\n",
    "\n",
    "    # Creating partitions of the data after shuffeling\n",
    "    allFileNames = os.listdir(src)\n",
    "    np.random.shuffle(allFileNames)\n",
    "    train_FileNames, val_FileNames, test_FileNames = np.split(np.array(allFileNames),\n",
    "                                                        [int(len(allFileNames)* (1 - (val_ratio + test_ratio))), \n",
    "                                                        int(len(allFileNames)* (1 - test_ratio))])\n",
    "\n",
    "\n",
    "    train_FileNames = [src+'/'+ name for name in train_FileNames.tolist()]\n",
    "    val_FileNames = [src+'/' + name for name in val_FileNames.tolist()]\n",
    "    test_FileNames = [src+'/' + name for name in test_FileNames.tolist()]\n",
    "\n",
    "    print('Total images: ', len(allFileNames))\n",
    "    print('Training: ', len(train_FileNames))\n",
    "    print('Validation: ', len(val_FileNames))\n",
    "    print('Testing: ', len(test_FileNames))\n",
    "\n",
    "    # Copy-pasting images\n",
    "    for name in train_FileNames:\n",
    "        shutil.copy(name, train_images)\n",
    "\n",
    "    for name in val_FileNames:\n",
    "        shutil.copy(name, val_images)\n",
    "\n",
    "    for name in test_FileNames:\n",
    "        shutil.copy(name, test)\n",
    "    \n",
    "    return train_images,train_labels,val_images,val_labels,test"
   ]
  },
  {
   "cell_type": "code",
   "execution_count": null,
   "id": "21af9172",
   "metadata": {},
   "outputs": [],
   "source": [
    "root_dir = os.getcwd()\n",
    "src = os.path.join(root_dir,'george_test_task','george')\n",
    "train_images,train_labels,val_images,val_labels,test = divide_copy_dataset(root_dir,src)\n",
    "print(train_images,train_labels,val_images,val_labels,test)"
   ]
  },
  {
   "cell_type": "markdown",
   "id": "099c3cd7",
   "metadata": {},
   "source": [
    "## Annotate the image- This is a manual process.\n",
    "\n",
    "**In this project, `labelImg` tool is used for annotating the images.**\n",
    "\n",
    "**If you are running this project on ubuntu, labelImg is present in linux repository. uncomment the below cell.**\n",
    "\n",
    "**If you are running on other OS, Please visit the below github repo to install the labelImg.**\n",
    "\n",
    "**`NOTE: ` You have to annotate the images present in train folder and val folder. Don't annotate images in Test folder**\n",
    "\n",
    "https://github.com/heartexlabs/labelImg"
   ]
  },
  {
   "cell_type": "code",
   "execution_count": null,
   "id": "6547837a",
   "metadata": {},
   "outputs": [],
   "source": [
    "!pip install labelImg"
   ]
  },
  {
   "cell_type": "markdown",
   "id": "f5ebdbfd",
   "metadata": {},
   "source": [
    "## Post Annotation Process\n",
    "\n",
    "**you may get some images which are not perfect for annotation, and you will skip those images. Hence, you will not get .txt file for those images. Therefore, you need to delete the images which is not annotated before training.**"
   ]
  },
  {
   "cell_type": "code",
   "execution_count": null,
   "id": "fefc9f04",
   "metadata": {},
   "outputs": [],
   "source": [
    "def delete_unannotated_images(path_images,path_labels):\n",
    "    txt_file = [file.split('.')[0] for file in os.listdir(path_labels)]\n",
    "    images_file = os.listdir(path_images)\n",
    "\n",
    "    for file in images_file:\n",
    "        images = file.split('.')[0]\n",
    "        if images not in txt_file or file.split('.')[-1] != 'jpg':\n",
    "            os.remove(path_images+'/'+file)\n",
    "    \n",
    "    # by default you will get classes.txt in labels folder, delete that\n",
    "    try:\n",
    "        os.remove(path_labels+'/classes.txt')\n",
    "    except OSError:\n",
    "        pass\n",
    "    \n",
    "    print(\"####### AFTER DELETION !!! #######\")\n",
    "    print(\"Total file in Label-dir: \", len(os.listdir(path_labels)))\n",
    "    print(\"Total file in Image-dir: \", len(os.listdir(path_images)))"
   ]
  },
  {
   "cell_type": "code",
   "execution_count": null,
   "id": "53a1c514",
   "metadata": {},
   "outputs": [],
   "source": [
    "import numpy as np\n",
    "\n",
    "def different_files_in_label_and_image_folder(path_images,path_labels):\n",
    "    print(\"####### BEFORE DELETION !! #######\")\n",
    "    print(\"Total file in Label-dir: \", len(os.listdir(path_labels)))\n",
    "    print(\"Total file in Image-dir: \", len(os.listdir(path_images)))\n",
    "    \n",
    "    txt_file = [file.split('.')[0] for file in os.listdir(path_labels)]\n",
    "    images_file =  [file.split('.')[0] for file in os.listdir(path_images)]\n",
    "    diff_list = np.setdiff1d(txt_file,images_file)\n",
    "    \n",
    "    print(diff_list)"
   ]
  },
  {
   "cell_type": "code",
   "execution_count": null,
   "id": "a1320f0e",
   "metadata": {},
   "outputs": [],
   "source": [
    "## find different file in images and label folder for TRAIN FOLDER.\n",
    "different_files_in_label_and_image_folder(train_images,train_labels)"
   ]
  },
  {
   "cell_type": "code",
   "execution_count": null,
   "id": "b26d3801",
   "metadata": {},
   "outputs": [],
   "source": [
    "## find different file in images and label folder for VAL FOLDER.\n",
    "different_files_in_label_and_image_folder(val_images,val_labels)"
   ]
  },
  {
   "cell_type": "markdown",
   "id": "149a2bfe",
   "metadata": {},
   "source": [
    "**Just uncomment below cell to delete images which don't have labels**"
   ]
  },
  {
   "cell_type": "code",
   "execution_count": null,
   "id": "17c235e0",
   "metadata": {},
   "outputs": [],
   "source": [
    "## Delete Unannotated images from train folder\n",
    "# delete_unannotated_images(train_images,train_labels)\n",
    "\n",
    "## Delete Unannotated images from val folder\n",
    "# delete_unannotated_images(val_images,val_labels)"
   ]
  },
  {
   "cell_type": "code",
   "execution_count": null,
   "id": "c6f1ae34",
   "metadata": {},
   "outputs": [],
   "source": []
  },
  {
   "cell_type": "code",
   "execution_count": null,
   "id": "84e5dec2",
   "metadata": {},
   "outputs": [],
   "source": []
  }
 ],
 "metadata": {
  "kernelspec": {
   "display_name": "Python 3 (ipykernel)",
   "language": "python",
   "name": "python3"
  },
  "language_info": {
   "codemirror_mode": {
    "name": "ipython",
    "version": 3
   },
   "file_extension": ".py",
   "mimetype": "text/x-python",
   "name": "python",
   "nbconvert_exporter": "python",
   "pygments_lexer": "ipython3",
   "version": "3.8.10"
  }
 },
 "nbformat": 4,
 "nbformat_minor": 5
}
